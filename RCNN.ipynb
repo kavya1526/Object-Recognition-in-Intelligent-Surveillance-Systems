{
  "cells": [
    {
      "cell_type": "code",
      "execution_count": null,
      "metadata": {
        "id": "F19Z8kgjdYbg"
      },
      "outputs": [],
      "source": [
        "from google.colab import drive\n",
        "drive.mount('/content/drive')"
      ]
    },
    {
      "cell_type": "code",
      "execution_count": null,
      "metadata": {
        "id": "qi4FQhPnpiPu"
      },
      "outputs": [],
      "source": [
        "#!pip install tensorflow==2.8.0"
      ]
    },
    {
      "cell_type": "code",
      "execution_count": null,
      "metadata": {
        "id": "sS2O2BF5twHD"
      },
      "outputs": [],
      "source": [
        "import tensorflow as tf\n",
        "tf.__version__"
      ]
    },
    {
      "cell_type": "code",
      "execution_count": null,
      "metadata": {
        "id": "x7d_KJ0YhvU5"
      },
      "outputs": [],
      "source": [
        "cd /content/drive/My Drive"
      ]
    },
    {
      "cell_type": "code",
      "execution_count": null,
      "metadata": {
        "id": "FyAILtiRtydF"
      },
      "outputs": [],
      "source": [
        "import os,cv2,keras\n",
        "import pandas as pd\n",
        "import matplotlib.pyplot as plt\n",
        "import numpy as np\n",
        "import tensorflow as tf\n",
        "from google.colab.patches import cv2_imshow"
      ]
    },
    {
      "cell_type": "code",
      "execution_count": null,
      "metadata": {
        "id": "L0YAW2r9t0PG"
      },
      "outputs": [],
      "source": [
        "path = \"/content/drive/MyDrive/coco_images\"\n",
        "annot = \"/content/drive/MyDrive/Annotations\""
      ]
    },
    {
      "cell_type": "code",
      "execution_count": null,
      "metadata": {
        "id": "KdBsBUw5t0Vd"
      },
      "outputs": [],
      "source": [
        "print(path)"
      ]
    },
    {
      "cell_type": "code",
      "execution_count": null,
      "metadata": {
        "id": "M4_UOdUut0bz"
      },
      "outputs": [],
      "source": [
        "Index=148\n",
        "filename = \"image_\"+str(Index)+\".jpg\"\n",
        "print(filename)\n",
        "print(os.path.join(annot,filename.replace(\".jpg\",\".csv\")))\n",
        "img = cv2.imread(os.path.join(path,filename))\n",
        "df = pd.read_csv(os.path.join(annot,filename.replace(\".jpg\",\".csv\")))\n",
        "plt.imshow(img)\n",
        "for row in df.iterrows():\n",
        "    x1 = int(row[1][0].split(\" \")[0])\n",
        "    y1 = int(row[1][0].split(\" \")[1])\n",
        "    x2 = int(row[1][0].split(\" \")[2])\n",
        "    y2 = int(row[1][0].split(\" \")[3])\n",
        "    cv2.rectangle(img,(x1,y1),(x2,y2),(255,0,0), 2)\n",
        "plt.figure()\n",
        "plt.imshow(img)"
      ]
    },
    {
      "cell_type": "code",
      "execution_count": null,
      "metadata": {
        "id": "6Jjgcvs9t0ii"
      },
      "outputs": [],
      "source": [
        "cv2.setUseOptimized(True);\n",
        "ss = cv2.ximgproc.segmentation.createSelectiveSearchSegmentation()"
      ]
    },
    {
      "cell_type": "code",
      "execution_count": null,
      "metadata": {
        "id": "iDpPAtzgjz5Z"
      },
      "outputs": [],
      "source": [
        "def get_iou(bb1, bb2):\n",
        "  # assuring for proper dimension.\n",
        "    assert bb1['x1'] < bb1['x2']\n",
        "    assert bb1['y1'] < bb1['y2']\n",
        "    assert bb2['x1'] < bb2['x2']\n",
        "    assert bb2['y1'] < bb2['y2']\n",
        "  # calculating dimension of common area between these two boxes.\n",
        "    x_left = max(bb1['x1'], bb2['x1'])\n",
        "    y_top = max(bb1['y1'], bb2['y1'])\n",
        "    x_right = min(bb1['x2'], bb2['x2'])\n",
        "    y_bottom = min(bb1['y2'], bb2['y2'])\n",
        "  # if there is no overlap output 0 as intersection area is zero.\n",
        "    if x_right < x_left or y_bottom < y_top:\n",
        "        return 0.0\n",
        "  # calculating intersection area.\n",
        "    intersection_area = (x_right - x_left) * (y_bottom - y_top)\n",
        "  # individual areas of both these bounding boxes.\n",
        "    bb1_area = (bb1['x2'] - bb1['x1']) * (bb1['y2'] - bb1['y1'])\n",
        "    bb2_area = (bb2['x2'] - bb2['x1']) * (bb2['y2'] - bb2['y1'])\n",
        "  # union area = area of bb1_+ area of bb2 - intersection of bb1 and bb2.\n",
        "    iou = intersection_area / float(bb1_area + bb2_area - intersection_area)\n",
        "    assert iou >= 0.0\n",
        "    assert iou <= 1.0\n",
        "    return iou"
      ]
    },
    {
      "cell_type": "code",
      "execution_count": null,
      "metadata": {
        "id": "Rli7WH3cjz9b"
      },
      "outputs": [],
      "source": [
        "# At the end of below code we will have our train data in these lists\n",
        "train_images=[]\n",
        "train_labels=[]"
      ]
    },
    {
      "cell_type": "code",
      "execution_count": null,
      "metadata": {
        "id": "4ybz6I-yj0Bx"
      },
      "outputs": [],
      "source": [
        "count=0\n",
        "for e,i in enumerate(os.listdir(annot)):\n",
        "    count=count+1\n",
        "    try:\n",
        "        if i.startswith(\"image\"):\n",
        "            filename = i.split(\".\")[0]+\".jpg\"\n",
        "            print(e,filename)\n",
        "            image = cv2.imread(os.path.join(path,filename))\n",
        "            df = pd.read_csv(os.path.join(annot,i))\n",
        "            gtvalues=[]\n",
        "            for row in df.iterrows():\n",
        "                x1 = int(row[1][0].split(\" \")[0])\n",
        "                y1 = int(row[1][0].split(\" \")[1])\n",
        "                x2 = int(row[1][0].split(\" \")[2])\n",
        "                y2 = int(row[1][0].split(\" \")[3])\n",
        "                gtvalues.append({\"x1\":x1,\"x2\":x2,\"y1\":y1,\"y2\":y2})\n",
        "            ss.setBaseImage(image)   # setting given image as base image\n",
        "            ss.switchToSelectiveSearchFast()     # running selective search on bae image \n",
        "            ssresults = ss.process()     # processing to get the outputs\n",
        "            imout = image.copy()   \n",
        "            counter = 0\n",
        "            falsecounter = 0\n",
        "            flag = 0\n",
        "            fflag = 0\n",
        "            bflag = 0\n",
        "            for e,result in enumerate(ssresults):\n",
        "                if e < 2000 and flag == 0:     # till 2000 to get top 2000 regions only\n",
        "                    for gtval in gtvalues:\n",
        "                        x,y,w,h = result\n",
        "                        iou = get_iou(gtval,{\"x1\":x,\"x2\":x+w,\"y1\":y,\"y2\":y+h})  # calculating IoU for each of the proposed regions\n",
        "                        if counter < 30:       # getting only 30 psoitive examples\n",
        "                            if iou > 0.50: \n",
        "                                timage = imout[x:x+w,y:y+h]\n",
        "                                resized = cv2.resize(timage, (224,224), interpolation = cv2.INTER_AREA)\n",
        "                                train_images.append(resized)\n",
        "                                train_labels.append(1)\n",
        "                                counter += 1\n",
        "                        else :\n",
        "                            fflag =1              # to insure we have collected all postive examples\n",
        "                        if falsecounter <30:      # 30 negatve examples are allowed only\n",
        "                            if iou < 0.5:         \n",
        "                                timage = imout[x:x+w,y:y+h]\n",
        "                                resized = cv2.resize(timage, (224,224), interpolation = cv2.INTER_AREA)\n",
        "                                train_images.append(resized)\n",
        "                                train_labels.append(0)\n",
        "                                falsecounter += 1\n",
        "                        else :\n",
        "                            bflag = 1             #to ensure we have collected all negative examples\n",
        "                    if fflag == 1 and bflag == 1:  \n",
        "                        print(\"inside\")\n",
        "                        flag = 1        # to signal the complition of data extaction from a particular image\n",
        "    except Exception as e:\n",
        "        print(e)\n",
        "        print(\"error in \"+filename)\n",
        "        continue"
      ]
    },
    {
      "cell_type": "code",
      "execution_count": null,
      "metadata": {
        "id": "30RhE9bij0E0"
      },
      "outputs": [],
      "source": [
        "# conversion of train data into arrays for further training\n",
        "X_new = np.array(train_images)\n",
        "Y_new = np.array(train_labels)"
      ]
    },
    {
      "cell_type": "code",
      "execution_count": null,
      "metadata": {
        "id": "sKD6cWl0pb66"
      },
      "outputs": [],
      "source": [
        "from keras.layers import Dense\n",
        "from keras import Model\n",
        "from keras import optimizers"
      ]
    },
    {
      "cell_type": "code",
      "execution_count": null,
      "metadata": {
        "id": "I2rq0YIHpcAL"
      },
      "outputs": [],
      "source": [
        "vgg = tf.keras.applications.vgg16.VGG16(include_top=True, weights='imagenet', input_tensor=None, input_shape=None, pooling=None, classes=1000)\n",
        "for layer in vgg.layers[:-2]:\n",
        "  layer.trainable = False\n",
        "x = vgg.get_layer('fc2')\n",
        "last_output =  x.output\n",
        "x = tf.keras.layers.Dense(1,activation = 'sigmoid')(last_output)  \n",
        "model = tf.keras.Model(vgg.input,x)\n",
        "model.compile(optimizer = \"adam\", \n",
        "              loss = 'binary_crossentropy', \n",
        "              metrics = ['acc'])"
      ]
    },
    {
      "cell_type": "code",
      "execution_count": null,
      "metadata": {
        "id": "hETv8KQ9pcCy"
      },
      "outputs": [],
      "source": [
        "model.summary()\n",
        "model.fit(X_new,Y_new,batch_size = 64,epochs = 30, verbose = 1,validation_split=.05,shuffle = True)"
      ]
    },
    {
      "cell_type": "code",
      "execution_count": null,
      "metadata": {
        "id": "e1h5hJUFpcFi"
      },
      "outputs": [],
      "source": [
        "svm_image = [];\n",
        "svm_label = [];"
      ]
    },
    {
      "cell_type": "code",
      "execution_count": null,
      "metadata": {
        "id": "369sCw83pcIs"
      },
      "outputs": [],
      "source": [
        "count=0\n",
        "for e,i in enumerate(os.listdir(annot)):\n",
        "    count=count+1\n",
        "    try:\n",
        "        if i.startswith(\"image\"):\n",
        "            filename = i.split(\".\")[0]+\".jpg\"\n",
        "            print(e,filename)\n",
        "            image = cv2.imread(os.path.join(path,filename))\n",
        "            df = pd.read_csv(os.path.join(annot,i))\n",
        "            gtvalues=[]\n",
        "            for row in df.iterrows():\n",
        "                x1 = int(row[1][0].split(\" \")[0])\n",
        "                y1 = int(row[1][0].split(\" \")[1])\n",
        "                x2 = int(row[1][0].split(\" \")[2])\n",
        "                y2 = int(row[1][0].split(\" \")[3]) \n",
        "                gtvalues.append({\"x1\":x1,\"x2\":x2,\"y1\":y1,\"y2\":y2})\n",
        "                timage = image[x1:x2,y1:y2]\n",
        "                resized = cv2.resize(timage, (224,224), interpolation = cv2.INTER_AREA)\n",
        "                svm_image.append(resized)\n",
        "                svm_label.append([0,1])\n",
        "            ss.setBaseImage(image)\n",
        "            ss.switchToSelectiveSearchFast()\n",
        "            ssresults = ss.process()\n",
        "            imout = image.copy()\n",
        "            counter = 0\n",
        "            falsecounter = 0\n",
        "            flag = 0\n",
        "            for e,result in enumerate(ssresults):\n",
        "                if e < 2000 and flag == 0:\n",
        "                    for gtval in gtvalues:\n",
        "                        x,y,w,h = result\n",
        "                        iou = get_iou(gtval,{\"x1\":x,\"x2\":x+w,\"y1\":y,\"y2\":y+h})\n",
        "                        if falsecounter <5:\n",
        "                            if iou < 0.3:\n",
        "                                timage = imout[x:x+w,y:y+h]\n",
        "                                resized = cv2.resize(timage, (224,224), interpolation = cv2.INTER_AREA)\n",
        "                                svm_image.append(resized)\n",
        "                                svm_label.append([1,0])\n",
        "                                falsecounter += 1\n",
        "                        else :\n",
        "                            flag = 1\n",
        "    except Exception as e:\n",
        "        print(e)\n",
        "        print(\"error in \"+filename)\n",
        "        continue"
      ]
    },
    {
      "cell_type": "code",
      "execution_count": null,
      "metadata": {
        "id": "sh3nWFdvLVlj"
      },
      "outputs": [],
      "source": [
        "cd \"/content/drive/My Drive\""
      ]
    },
    {
      "cell_type": "code",
      "execution_count": null,
      "metadata": {
        "id": "ZADiC2YJLIag"
      },
      "outputs": [],
      "source": [
        "print(os.getcwd())"
      ]
    },
    {
      "cell_type": "code",
      "execution_count": null,
      "metadata": {
        "id": "UmBmBeTQJO5T"
      },
      "outputs": [],
      "source": [
        "#adding svm to last layer\n",
        "x =model.get_layer('fc2').output\n",
        "Y = tf.keras.layers.Dense(2)(x)\n",
        "final_model = tf.keras.Model(model.input,Y)\n",
        "final_model.compile(loss='hinge',\n",
        "              optimizer='adam',\n",
        "              metrics=['accuracy'])\n",
        "final_model.summary()\n",
        "final_model.save(\"my_model_weights.h5\")\n",
        "final_model.load_weights('my_model_weights.h5')"
      ]
    },
    {
      "cell_type": "code",
      "execution_count": null,
      "metadata": {
        "colab": {
          "background_save": true
        },
        "id": "FmrmP4AoMOns"
      },
      "outputs": [],
      "source": [
        "hist_final = final_model.fit(np.array(svm_image),np.array(svm_label),batch_size=32,epochs = 30,verbose = 1,shuffle = True,validation_split = 0.05)"
      ]
    },
    {
      "cell_type": "code",
      "execution_count": null,
      "metadata": {
        "colab": {
          "background_save": true
        },
        "id": "1L3ipoB4EP-U"
      },
      "outputs": [],
      "source": [
        "import matplotlib.pyplot as plt\n",
        "# plt.plot(hist.history[\"acc\"])\n",
        "# plt.plot(hist.history['val_acc'])\n",
        "plt.plot(hist_final.history['loss'])\n",
        "plt.plot(hist_final.history['val_loss'])\n",
        "plt.title(\"model loss\")\n",
        "plt.ylabel(\"Loss\")\n",
        "plt.xlabel(\"Epoch\")\n",
        "plt.legend([\"Loss\",\"Validation Loss\"])\n",
        "plt.show()\n",
        "plt.savefig('chart loss.png')"
      ]
    },
    {
      "cell_type": "code",
      "execution_count": null,
      "metadata": {
        "colab": {
          "background_save": true
        },
        "id": "5YeA7HufMCAn"
      },
      "outputs": [],
      "source": [
        "image = cv2.imread(os.path.join(path,'image_020.jpg'))\n",
        "ss.setBaseImage(image)\n",
        "ss.switchToSelectiveSearchFast()\n",
        "ssresults = ss.process()\n",
        "\n",
        "imOut = image.copy()\n",
        "boxes = []\n",
        "count = 0\n",
        "for e,result in enumerate(ssresults):\n",
        "  if e < 50:\n",
        "    x,y,w,h = result\n",
        "    timage = imout[x:x+w,y:y+h]\n",
        "    resized = cv2.resize(timage, (224,224), interpolation = cv2.INTER_AREA)\n",
        "    resized = np.expand_dims(resized,axis = 0)\n",
        "    out = final_model.predict(resized)\n",
        "    print(e,out)\n",
        "    if(out[0][0]<out[0][1]):\n",
        "      boxes.append([x,y,w,h])\n",
        "      count+=1\n",
        "\n",
        "for box in boxes:\n",
        "    x, y, w, h = box\n",
        "    print(x,y,w,h)\n",
        "#     imOut = imOut[x:x+w,y:y+h]\n",
        "    cv2.rectangle(imOut, (x, y), (x+w, y+h), (0, 255, 0), 1, cv2.LINE_AA)\n",
        "# plt.figure()\n",
        "plt.imshow(imOut)"
      ]
    }
  ],
  "metadata": {
    "colab": {
      "provenance": []
    },
    "kernelspec": {
      "display_name": "Python 3",
      "name": "python3"
    },
    "language_info": {
      "name": "python"
    }
  },
  "nbformat": 4,
  "nbformat_minor": 0
}
