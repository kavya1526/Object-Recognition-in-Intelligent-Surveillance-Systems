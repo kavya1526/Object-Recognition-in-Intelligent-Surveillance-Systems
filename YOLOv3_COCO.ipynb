{
  "cells": [
    {
      "cell_type": "code",
      "execution_count": null,
      "metadata": {
        "id": "f_Uo7U1Qk8m4"
      },
      "outputs": [],
      "source": [
        "from google.colab import drive\n",
        "drive.mount('/content/drive')"
      ]
    },
    {
      "cell_type": "code",
      "execution_count": null,
      "metadata": {
        "id": "88LtMlzQlRIX"
      },
      "outputs": [],
      "source": [
        "cd /content/drive/MyDrive"
      ]
    },
    {
      "cell_type": "code",
      "execution_count": null,
      "metadata": {
        "id": "1gfq2Phmqyp1"
      },
      "outputs": [],
      "source": [
        "import numpy as np\n",
        "import argparse\n",
        "import time\n",
        "import cv2\n",
        "import os\n",
        "import matplotlib.pyplot as plt\n",
        "\n",
        "#  Load the YOLO weights and configuration files.\n",
        "\n",
        "wtPath = '/content/drive/MyDrive/yolov3.weights'\n",
        "cfgPath = '/content/drive/MyDrive/yolov3.cfg'\n",
        "\n",
        "#load the darknet according to weights and cfg.\n",
        "net = cv2.dnn.readNet(cfgPath, wtPath)\n",
        "\n",
        "#define colours for every class label from the dataset.\n",
        "\n",
        "LABELS= []\n",
        "with open(\"/content/drive/MyDrive/coco.names\",'r') as f:\n",
        "  LABELS=f.read().splitlines()"
      ]
    },
    {
      "cell_type": "code",
      "execution_count": null,
      "metadata": {
        "id": "H7J49-1hq4zW"
      },
      "outputs": [],
      "source": [
        "np.random.seed(42)\n",
        "COLORS = np.random.randint(0, 255, size=(len(LABELS), 3),\n",
        "\tdtype=\"uint8\")\n",
        "\n",
        "# read the input image\n",
        "img=cv2.imread(\"/content/drive/MyDrive/yolov3_test/fff.jpg\")\n",
        "img = cv2.cvtColor(img, cv2.COLOR_BGR2RGB)\n",
        "(H, W) = img.shape[:2]"
      ]
    },
    {
      "cell_type": "code",
      "execution_count": null,
      "metadata": {
        "id": "Wan_M4LVtkVW"
      },
      "outputs": [],
      "source": [
        "blob = cv2.dnn.blobFromImage(img, 1 / 255, (320, 320), [0,0,0], 1, crop=False)"
      ]
    },
    {
      "cell_type": "code",
      "execution_count": null,
      "metadata": {
        "id": "BM8DPplcuSRD"
      },
      "outputs": [],
      "source": [
        "# pass blob of the image from network\n",
        "net.setInput(blob)"
      ]
    },
    {
      "cell_type": "code",
      "execution_count": null,
      "metadata": {
        "id": "JY04y8nRuyeb"
      },
      "outputs": [],
      "source": [
        "layerNames = net.getUnconnectedOutLayersNames()\n",
        "\n",
        "# get the output\n",
        "Outputs = net.forward(layerNames)\n"
      ]
    },
    {
      "cell_type": "code",
      "execution_count": null,
      "metadata": {
        "id": "4JoxlGhfzCpl"
      },
      "outputs": [],
      "source": [
        "boundingBoxes = []\n",
        "confidences = []\n",
        "classIDs = []\n",
        "\n",
        "count=0;\n",
        "# get the bounding boxes and classes from the output\n",
        "for output in Outputs:\n",
        "\tfor detection in output:\n",
        "\t\tscores = detection[5:]\n",
        "\t\tclassID = np.argmax(scores)\n",
        "\t\tconfidence = scores[classID]\n",
        "\t\tcount+=1;\n",
        "\t\tif confidence >= 0.0:\n",
        "\t\t\tbox = detection[0:4] * np.array([W, H, W, H])\n",
        "\t\t\t(cX, cY, width, height) = box.astype(\"int\")\n",
        "\t \n",
        "\t\t\tx = int(cX - (width / 2))\n",
        "\t\t\ty = int(cY - (height / 2))\n",
        "\n",
        "\t\t\tboundingBoxes.append([x, y, int(width), int(height)])\n",
        "\t\t\tconfidences.append(float(confidence))\n",
        "\t\t\tclassIDs.append(classID)\n",
        "# Apply non-max suppression\n",
        "idxs = cv2.dnn.NMSBoxes(boundingBoxes, confidences, 0.3, 0.1)\n",
        "\n",
        "\n",
        "# Draw the bounding boxes\n",
        "\n",
        "if len(idxs) > 0:\n",
        "\tfor i in idxs.flatten():\n",
        "\t\t(w, h) = (boundingBoxes[i][2], boundingBoxes[i][3])\n",
        "\t\t(x, y) = (boundingBoxes[i][0], boundingBoxes[i][1])\n",
        "\t\tclr = [int(c) for c in COLORS[classIDs[i]]]\n",
        "\t\tcv2.rectangle(img, (x, y), (x + w, y + h), clr, 3)\n",
        "\t\ttext = \"{}: {:.4f}\".format(LABELS[classIDs[i]], confidences[i])\n",
        "\t\tcv2.putText(img, text, (x, y - 5), cv2.FONT_HERSHEY_SIMPLEX,0.5, clr, 2)\n",
        "\n",
        "plt.imshow(img)\n",
        "\n"
      ]
    }
  ],
  "metadata": {
    "colab": {
      "provenance": []
    },
    "kernelspec": {
      "display_name": "Python 3",
      "name": "python3"
    },
    "language_info": {
      "name": "python"
    }
  },
  "nbformat": 4,
  "nbformat_minor": 0
}
